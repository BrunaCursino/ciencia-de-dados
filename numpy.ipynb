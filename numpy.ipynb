{
 "cells": [
  {
   "cell_type": "markdown",
   "id": "bfb6a603-c0eb-438e-b605-63ab90cd5440",
   "metadata": {},
   "source": [
    "Importando a biblioteca:"
   ]
  },
  {
   "cell_type": "code",
   "execution_count": 1,
   "id": "ffbb8051-0d59-4107-9d41-f7900e672938",
   "metadata": {},
   "outputs": [],
   "source": [
    "import numpy as np "
   ]
  },
  {
   "cell_type": "markdown",
   "id": "520e7051-793b-44c2-ab51-4e8d97b7c836",
   "metadata": {},
   "source": [
    "Criando um array: "
   ]
  },
  {
   "cell_type": "code",
   "execution_count": 2,
   "id": "36b0cb5b-faca-4c0b-b48b-4e43326b5135",
   "metadata": {},
   "outputs": [
    {
     "data": {
      "text/plain": [
       "array([1, 2, 3])"
      ]
     },
     "execution_count": 2,
     "metadata": {},
     "output_type": "execute_result"
    }
   ],
   "source": [
    "np.array([1, 2, 3 ])"
   ]
  },
  {
   "cell_type": "markdown",
   "id": "520d65f5-98c5-4859-bad2-3477ec4c3e85",
   "metadata": {},
   "source": [
    "Criando um array de 0 em cinco posições:"
   ]
  },
  {
   "cell_type": "code",
   "execution_count": 3,
   "id": "c3950501-f7e8-43c0-bf7c-647c2e2500f3",
   "metadata": {},
   "outputs": [
    {
     "data": {
      "text/plain": [
       "array([0., 0., 0., 0., 0.])"
      ]
     },
     "execution_count": 3,
     "metadata": {},
     "output_type": "execute_result"
    }
   ],
   "source": [
    "np.zeros(5)"
   ]
  },
  {
   "cell_type": "markdown",
   "id": "db48a2ef-8b1a-4b8a-9b19-a7d3bd786be0",
   "metadata": {},
   "source": [
    "Essa função coloca valor 1: "
   ]
  },
  {
   "cell_type": "code",
   "execution_count": 4,
   "id": "b25fc24f-a308-487b-8980-2c13d1fc59bb",
   "metadata": {},
   "outputs": [
    {
     "data": {
      "text/plain": [
       "array([1., 1., 1., 1., 1.])"
      ]
     },
     "execution_count": 4,
     "metadata": {},
     "output_type": "execute_result"
    }
   ],
   "source": [
    "np.ones(5)"
   ]
  },
  {
   "cell_type": "markdown",
   "id": "f1120986-b26d-4660-a9b8-3f62626db06e",
   "metadata": {},
   "source": [
    "Essa função cria um array os elementos terá valor aleatorio: "
   ]
  },
  {
   "cell_type": "code",
   "execution_count": 5,
   "id": "da57e49a-f19b-4593-90f7-a6aa2facf847",
   "metadata": {},
   "outputs": [
    {
     "data": {
      "text/plain": [
       "array([6.95332180e-310, 0.00000000e+000, 0.00000000e+000, 0.00000000e+000,\n",
       "       1.93101617e-312, 3.80132583e+175, 4.90464331e-062, 7.79078335e-091,\n",
       "       5.70219451e-066, 8.74029144e-313])"
      ]
     },
     "execution_count": 5,
     "metadata": {},
     "output_type": "execute_result"
    }
   ],
   "source": [
    "np.empty(10)"
   ]
  },
  {
   "cell_type": "markdown",
   "id": "d7b475be-330c-4abf-8f67-9be68648221a",
   "metadata": {},
   "source": [
    "Criando um array dentro de um intervalo especifico: "
   ]
  },
  {
   "cell_type": "code",
   "execution_count": 6,
   "id": "4be18f19-dabe-4a2e-a52a-af1f09b5fa36",
   "metadata": {},
   "outputs": [
    {
     "data": {
      "text/plain": [
       "array([0, 1, 2, 3])"
      ]
     },
     "execution_count": 6,
     "metadata": {},
     "output_type": "execute_result"
    }
   ],
   "source": [
    "np.arange(4)"
   ]
  },
  {
   "cell_type": "markdown",
   "id": "b808492e-86f1-4755-951e-5c5733127f7e",
   "metadata": {},
   "source": [
    "Definindo um intervalo especifico (Inclui o primeiro elemento, mas exclui o ultimo):"
   ]
  },
  {
   "cell_type": "code",
   "execution_count": 7,
   "id": "1908bed7-07e4-4c07-9930-ba9cb917b813",
   "metadata": {},
   "outputs": [
    {
     "data": {
      "text/plain": [
       "array([1, 3, 5, 7])"
      ]
     },
     "execution_count": 7,
     "metadata": {},
     "output_type": "execute_result"
    }
   ],
   "source": [
    "np.arange(1, 9, 2)"
   ]
  },
  {
   "cell_type": "markdown",
   "id": "35e3ec12-3240-462a-9fa5-8df1052127c9",
   "metadata": {},
   "source": [
    "Separa os elemento linearmente, retornando quatro elementos:"
   ]
  },
  {
   "cell_type": "code",
   "execution_count": 8,
   "id": "8ab49bea-26d4-4815-b58d-971467363c7f",
   "metadata": {},
   "outputs": [
    {
     "data": {
      "text/plain": [
       "array([ 0. ,  2.5,  5. ,  7.5, 10. ])"
      ]
     },
     "execution_count": 8,
     "metadata": {},
     "output_type": "execute_result"
    }
   ],
   "source": [
    "np.linspace(0, 10, num=5)"
   ]
  },
  {
   "cell_type": "markdown",
   "id": "3f7407da-2139-4e12-92a2-14217cd447ea",
   "metadata": {},
   "source": [
    "Especifica o tipos de dados forçando certos valores:"
   ]
  },
  {
   "cell_type": "code",
   "execution_count": 11,
   "id": "fee5cb2a-f860-491c-b0a3-8318a44672dc",
   "metadata": {},
   "outputs": [
    {
     "data": {
      "text/plain": [
       "array([0, 0, 0])"
      ]
     },
     "execution_count": 11,
     "metadata": {},
     "output_type": "execute_result"
    }
   ],
   "source": [
    "np.zeros(3, dtype=np.int64)"
   ]
  },
  {
   "cell_type": "markdown",
   "id": "d306d3b0-cfb4-4c08-83bb-7600bf4be084",
   "metadata": {},
   "source": [
    "Criando um array  e ordena os elementos:"
   ]
  },
  {
   "cell_type": "code",
   "execution_count": 12,
   "id": "42b1ae6c-7d85-4e52-975a-dfe364579525",
   "metadata": {},
   "outputs": [],
   "source": [
    "arr = np.array([12, 1, 5, 10, 3, 2, 7])"
   ]
  },
  {
   "cell_type": "markdown",
   "id": "d2ff5ff1-6993-43cb-ae22-2791ef4b6b7a",
   "metadata": {},
   "source": [
    "Salvando o array na variavel arr, chama a função a ordenação com nsort passando o array retornando outro array ordenado:"
   ]
  },
  {
   "cell_type": "code",
   "execution_count": 13,
   "id": "8fd1ef2c-e7b1-406b-b45f-5fc8ccb7f58e",
   "metadata": {},
   "outputs": [
    {
     "data": {
      "text/plain": [
       "array([ 1,  2,  3,  5,  7, 10, 12])"
      ]
     },
     "execution_count": 13,
     "metadata": {},
     "output_type": "execute_result"
    }
   ],
   "source": [
    "np.sort(arr)"
   ]
  },
  {
   "cell_type": "markdown",
   "id": "95e975f8-accb-43b8-807c-3fa9ebeda618",
   "metadata": {},
   "source": [
    "Concatena dois arrays diferentes:"
   ]
  },
  {
   "cell_type": "code",
   "execution_count": 14,
   "id": "89fdcd9e-8341-496f-adde-7d96967c8c29",
   "metadata": {},
   "outputs": [
    {
     "data": {
      "text/plain": [
       "array([1, 2, 3, 4, 5, 6])"
      ]
     },
     "execution_count": 14,
     "metadata": {},
     "output_type": "execute_result"
    }
   ],
   "source": [
    "a = np.array([1, 2, 3])\n",
    "b = np.array([4, 5, 6]) \n",
    "np.concatenate((a, b))"
   ]
  },
  {
   "cell_type": "markdown",
   "id": "195e1f39-4cf4-43ab-b747-555f2ecea2c7",
   "metadata": {},
   "source": [
    "Essa função trabalha com qualquer dimensão: "
   ]
  },
  {
   "cell_type": "code",
   "execution_count": 15,
   "id": "ba06f371-5de8-4ad8-a770-3016925d3c21",
   "metadata": {},
   "outputs": [],
   "source": [
    "matriz = np.array([\n",
    "    [1, 2, 3],\n",
    "    [4, 5, 6],\n",
    "    [7, 8, 9],\n",
    "    ])"
   ]
  },
  {
   "cell_type": "markdown",
   "id": "75a1ee7c-aa8e-41a1-90a4-697bffd84aa5",
   "metadata": {},
   "source": [
    "Aqui ele irá retornar os valores guardados dentro da váriavel matriz:"
   ]
  },
  {
   "cell_type": "code",
   "execution_count": 16,
   "id": "6e698b8e-c8a0-4243-ba42-89e326f02d24",
   "metadata": {},
   "outputs": [
    {
     "data": {
      "text/plain": [
       "array([[1, 2, 3],\n",
       "       [4, 5, 6],\n",
       "       [7, 8, 9]])"
      ]
     },
     "execution_count": 16,
     "metadata": {},
     "output_type": "execute_result"
    }
   ],
   "source": [
    "matriz"
   ]
  },
  {
   "cell_type": "markdown",
   "id": "3e5b3a6d-45c5-4ed4-85cb-3f28ff4871d0",
   "metadata": {},
   "source": [
    "Verifica quantas dimensões a estrutura no objeto:"
   ]
  },
  {
   "cell_type": "code",
   "execution_count": 17,
   "id": "5f54c195-ae69-4840-856f-2b205f6bb35d",
   "metadata": {},
   "outputs": [
    {
     "data": {
      "text/plain": [
       "2"
      ]
     },
     "execution_count": 17,
     "metadata": {},
     "output_type": "execute_result"
    }
   ],
   "source": [
    "matriz.ndim"
   ]
  },
  {
   "cell_type": "markdown",
   "id": "a925f114-bd5d-4ac2-a00c-0c02d4eb461d",
   "metadata": {},
   "source": [
    "Verifica quantos atributos tem:"
   ]
  },
  {
   "cell_type": "code",
   "execution_count": 19,
   "id": "83c33f2c-3f61-4121-81ca-49cfa20121e3",
   "metadata": {},
   "outputs": [
    {
     "data": {
      "text/plain": [
       "9"
      ]
     },
     "execution_count": 19,
     "metadata": {},
     "output_type": "execute_result"
    }
   ],
   "source": [
    "matriz.size"
   ]
  },
  {
   "cell_type": "markdown",
   "id": "15d0994d-286b-4d33-a301-7136a59486e9",
   "metadata": {},
   "source": [
    "Esse atributo retorna qual o formato: "
   ]
  },
  {
   "cell_type": "code",
   "execution_count": 20,
   "id": "e0a4d066-744b-4622-bb11-2933c1ee2f71",
   "metadata": {},
   "outputs": [
    {
     "data": {
      "text/plain": [
       "(3, 3)"
      ]
     },
     "execution_count": 20,
     "metadata": {},
     "output_type": "execute_result"
    }
   ],
   "source": [
    "matriz.shape"
   ]
  },
  {
   "cell_type": "markdown",
   "id": "0e49be84-ce66-4625-8f75-fbed12cd2f9c",
   "metadata": {},
   "source": [
    "Trasforma essa matriz mudando o formato da estrutura:"
   ]
  },
  {
   "cell_type": "code",
   "execution_count": 21,
   "id": "3337de96-4c3a-443b-8290-9c6538ac37cc",
   "metadata": {},
   "outputs": [
    {
     "data": {
      "text/plain": [
       "array([[1, 2, 3, 4, 5, 6, 7, 8, 9]])"
      ]
     },
     "execution_count": 21,
     "metadata": {},
     "output_type": "execute_result"
    }
   ],
   "source": [
    "matriz.reshape(1, 9)"
   ]
  },
  {
   "cell_type": "markdown",
   "id": "1aa4c029-4957-4fc3-aec5-51dd03194ca4",
   "metadata": {},
   "source": [
    "Pega qualquer matriz e converte em uma linha ou coluna: "
   ]
  },
  {
   "cell_type": "code",
   "execution_count": 22,
   "id": "8a1b1cd1-e222-43ff-9883-2d3c6bd90834",
   "metadata": {},
   "outputs": [
    {
     "data": {
      "text/plain": [
       "(3,)"
      ]
     },
     "execution_count": 22,
     "metadata": {},
     "output_type": "execute_result"
    }
   ],
   "source": [
    "a.shape"
   ]
  },
  {
   "cell_type": "markdown",
   "id": "7389ead6-2e82-4989-be03-20450bcaca05",
   "metadata": {},
   "source": [
    "Pega a estrutura e adiciona uma nova dimenção no objeto:"
   ]
  },
  {
   "cell_type": "code",
   "execution_count": 23,
   "id": "0987fd24-bbb1-4c01-835c-d035e3e2adc6",
   "metadata": {},
   "outputs": [
    {
     "data": {
      "text/plain": [
       "array([[1, 2, 3]])"
      ]
     },
     "execution_count": 23,
     "metadata": {},
     "output_type": "execute_result"
    }
   ],
   "source": [
    "a[np.newaxis, :]"
   ]
  },
  {
   "cell_type": "markdown",
   "id": "cfe0f489-652c-4f7c-bece-b47e5332160c",
   "metadata": {},
   "source": [
    "Mostra o shape da nova estrutura:"
   ]
  },
  {
   "cell_type": "code",
   "execution_count": 26,
   "id": "9a63d505-4167-4c66-861b-741286514cf4",
   "metadata": {},
   "outputs": [
    {
     "data": {
      "text/plain": [
       "(1, 3)"
      ]
     },
     "execution_count": 26,
     "metadata": {},
     "output_type": "execute_result"
    }
   ],
   "source": [
    "a[np.newaxis, :].shape"
   ]
  },
  {
   "cell_type": "code",
   "execution_count": null,
   "id": "42e86369-a517-4c3c-95e6-a685b8a5e6f6",
   "metadata": {},
   "outputs": [],
   "source": []
  }
 ],
 "metadata": {
  "kernelspec": {
   "display_name": "Python 3 (ipykernel)",
   "language": "python",
   "name": "python3"
  },
  "language_info": {
   "codemirror_mode": {
    "name": "ipython",
    "version": 3
   },
   "file_extension": ".py",
   "mimetype": "text/x-python",
   "name": "python",
   "nbconvert_exporter": "python",
   "pygments_lexer": "ipython3",
   "version": "3.9.6"
  }
 },
 "nbformat": 4,
 "nbformat_minor": 5
}
{
 "cells": [
  {
   "cell_type": "code",
   "execution_count": 3,
   "id": "cdd61d7d-f69f-46d4-8a3a-47f4b6504ab3",
   "metadata": {},
   "outputs": [],
   "source": [
    "import numpy as np"
   ]
  },
  {
   "cell_type": "code",
   "execution_count": 5,
   "id": "9109ac66-6c12-408a-8250-74f6c0cb2b2f",
   "metadata": {},
   "outputs": [],
   "source": [
    "a = np.array([10, 20, 30, 40, 50])\n",
    "b = np.arange(5)"
   ]
  },
  {
   "cell_type": "code",
   "execution_count": 6,
   "id": "efb91e2a-54df-4a19-b5ed-c81b9c42af3e",
   "metadata": {},
   "outputs": [
    {
     "data": {
      "text/plain": [
       "array([10, 20, 30, 40, 50])"
      ]
     },
     "execution_count": 6,
     "metadata": {},
     "output_type": "execute_result"
    }
   ],
   "source": [
    "a"
   ]
  },
  {
   "cell_type": "code",
   "execution_count": 7,
   "id": "5091f698-1417-4bce-9d54-55ef38f96212",
   "metadata": {},
   "outputs": [
    {
     "data": {
      "text/plain": [
       "array([0, 1, 2, 3, 4])"
      ]
     },
     "execution_count": 7,
     "metadata": {},
     "output_type": "execute_result"
    }
   ],
   "source": [
    "b"
   ]
  },
  {
   "cell_type": "markdown",
   "id": "efc388a9-0d15-467d-99c7-dc104c62d882",
   "metadata": {},
   "source": [
    "Fazendo operações diretas com arrays:"
   ]
  },
  {
   "cell_type": "code",
   "execution_count": 8,
   "id": "d3d4f0d3-bf33-4936-ad59-4ff4330e89d3",
   "metadata": {},
   "outputs": [
    {
     "data": {
      "text/plain": [
       "array([10, 19, 28, 37, 46])"
      ]
     },
     "execution_count": 8,
     "metadata": {},
     "output_type": "execute_result"
    }
   ],
   "source": [
    "a - b"
   ]
  },
  {
   "cell_type": "markdown",
   "id": "0a46f569-7ece-4ed4-8d4d-1e7e2615e2c1",
   "metadata": {},
   "source": [
    "Resultado de operações com elementos:"
   ]
  },
  {
   "cell_type": "code",
   "execution_count": 35,
   "id": "1b36612c-aa2f-4ea5-9498-8b4ebfd9b017",
   "metadata": {},
   "outputs": [
    {
     "data": {
      "text/plain": [
       "array([200,  40, 200,  80, 200])"
      ]
     },
     "execution_count": 35,
     "metadata": {},
     "output_type": "execute_result"
    }
   ],
   "source": [
    "a * 2"
   ]
  },
  {
   "cell_type": "code",
   "execution_count": 36,
   "id": "457e301f-c2f0-4b3b-b9be-edc25296fb24",
   "metadata": {},
   "outputs": [
    {
     "data": {
      "text/plain": [
       "array([ 0,  1,  4,  9, 16])"
      ]
     },
     "execution_count": 36,
     "metadata": {},
     "output_type": "execute_result"
    }
   ],
   "source": [
    "b**2"
   ]
  },
  {
   "cell_type": "markdown",
   "id": "695fe26a-698f-4a67-8855-bca4b8145ec6",
   "metadata": {},
   "source": [
    "Aplicando operações logicas:"
   ]
  },
  {
   "cell_type": "code",
   "execution_count": 37,
   "id": "d92c4833-9082-482e-98a6-de60ef4485cc",
   "metadata": {},
   "outputs": [
    {
     "data": {
      "text/plain": [
       "array([False,  True, False, False, False])"
      ]
     },
     "execution_count": 37,
     "metadata": {},
     "output_type": "execute_result"
    }
   ],
   "source": [
    "a <= 30"
   ]
  },
  {
   "cell_type": "markdown",
   "id": "2e5fd88b-c364-46d6-af0f-f514b3f1c24a",
   "metadata": {},
   "source": [
    "Arrays com matrizes:"
   ]
  },
  {
   "cell_type": "code",
   "execution_count": 38,
   "id": "492a300e-5d16-455c-8617-517901cc7cbc",
   "metadata": {},
   "outputs": [],
   "source": [
    "A = np.array([[1, 1], [0, 1]])\n",
    "B = np.array([[2, 0], [3, 4]])"
   ]
  },
  {
   "cell_type": "code",
   "execution_count": 39,
   "id": "163401a3-1db9-4988-a87d-a12ba93d9dcc",
   "metadata": {},
   "outputs": [
    {
     "data": {
      "text/plain": [
       "array([[1, 1],\n",
       "       [0, 1]])"
      ]
     },
     "execution_count": 39,
     "metadata": {},
     "output_type": "execute_result"
    }
   ],
   "source": [
    "A"
   ]
  },
  {
   "cell_type": "code",
   "execution_count": 40,
   "id": "05ef73d7-d4fd-424f-9407-98fc82e7d0e2",
   "metadata": {},
   "outputs": [
    {
     "data": {
      "text/plain": [
       "array([[2, 0],\n",
       "       [3, 4]])"
      ]
     },
     "execution_count": 40,
     "metadata": {},
     "output_type": "execute_result"
    }
   ],
   "source": [
    "B"
   ]
  },
  {
   "cell_type": "markdown",
   "id": "89830cd6-30da-4b0a-bc8c-97d445463a58",
   "metadata": {},
   "source": [
    "Aplicando operações com os elementos das matrizes:\n"
   ]
  },
  {
   "cell_type": "code",
   "execution_count": 41,
   "id": "262394f7-bb5a-4c10-bbe4-13e37dc0e1aa",
   "metadata": {},
   "outputs": [
    {
     "data": {
      "text/plain": [
       "array([[2, 0],\n",
       "       [0, 4]])"
      ]
     },
     "execution_count": 41,
     "metadata": {},
     "output_type": "execute_result"
    }
   ],
   "source": [
    "A * B"
   ]
  },
  {
   "cell_type": "code",
   "execution_count": 42,
   "id": "c12fa093-07d9-4ed7-b221-6c060570c324",
   "metadata": {},
   "outputs": [
    {
     "data": {
      "text/plain": [
       "array([[5, 4],\n",
       "       [3, 4]])"
      ]
     },
     "execution_count": 42,
     "metadata": {},
     "output_type": "execute_result"
    }
   ],
   "source": [
    "A @ B"
   ]
  },
  {
   "cell_type": "markdown",
   "id": "d53a69f4-359e-48a0-be57-f66439a43ec1",
   "metadata": {},
   "source": [
    "Combinando tecnicas, criando matrizes:"
   ]
  },
  {
   "cell_type": "code",
   "execution_count": 43,
   "id": "8209c85f-f9b0-497c-8bc9-8384c38ab454",
   "metadata": {},
   "outputs": [
    {
     "data": {
      "text/plain": [
       "array([100,  20, 100,  40, 100])"
      ]
     },
     "execution_count": 43,
     "metadata": {},
     "output_type": "execute_result"
    }
   ],
   "source": [
    "a"
   ]
  },
  {
   "cell_type": "code",
   "execution_count": 44,
   "id": "49bfc99b-8e1d-4225-8837-f24d07aa0241",
   "metadata": {},
   "outputs": [
    {
     "data": {
      "text/plain": [
       "100"
      ]
     },
     "execution_count": 44,
     "metadata": {},
     "output_type": "execute_result"
    }
   ],
   "source": [
    "a[2]"
   ]
  },
  {
   "cell_type": "markdown",
   "id": "a458c158-0bdd-4b49-bc4f-84a62f635765",
   "metadata": {},
   "source": [
    "Pegando por intervalos:"
   ]
  },
  {
   "cell_type": "code",
   "execution_count": 45,
   "id": "15d0d8b0-c054-453e-a1b2-b20d87f5533c",
   "metadata": {},
   "outputs": [
    {
     "data": {
      "text/plain": [
       "array([100,  40, 100])"
      ]
     },
     "execution_count": 45,
     "metadata": {},
     "output_type": "execute_result"
    }
   ],
   "source": [
    "a[2:5]"
   ]
  },
  {
   "cell_type": "code",
   "execution_count": 46,
   "id": "d2d52a2f-b78d-4b05-8bed-c9ca6ff09654",
   "metadata": {},
   "outputs": [],
   "source": [
    "a[:5:2] = 100"
   ]
  },
  {
   "cell_type": "code",
   "execution_count": 47,
   "id": "bcdc1a5f-036b-4a04-acb1-bba08f73dcc6",
   "metadata": {},
   "outputs": [
    {
     "data": {
      "text/plain": [
       "array([100,  20, 100,  40, 100])"
      ]
     },
     "execution_count": 47,
     "metadata": {},
     "output_type": "execute_result"
    }
   ],
   "source": [
    "a"
   ]
  },
  {
   "cell_type": "markdown",
   "id": "01f75179-3584-4fe2-8c43-3524b77ee1f2",
   "metadata": {},
   "source": [
    "Formas para criar arrays(espaçamentos de memorias):"
   ]
  },
  {
   "cell_type": "code",
   "execution_count": 54,
   "id": "07055b5f-9d34-4d7f-9f8b-97f10ef8c293",
   "metadata": {},
   "outputs": [
    {
     "data": {
      "text/plain": [
       "array([0, 1, 2, 3, 4])"
      ]
     },
     "execution_count": 54,
     "metadata": {},
     "output_type": "execute_result"
    }
   ],
   "source": [
    "a"
   ]
  },
  {
   "cell_type": "code",
   "execution_count": 55,
   "id": "d24caf8d-c424-4c94-ba8d-f41976383b07",
   "metadata": {},
   "outputs": [
    {
     "data": {
      "text/plain": [
       "array([0, 1, 2, 3, 4])"
      ]
     },
     "execution_count": 55,
     "metadata": {},
     "output_type": "execute_result"
    }
   ],
   "source": [
    "b"
   ]
  },
  {
   "cell_type": "code",
   "execution_count": 56,
   "id": "36b18047-578d-4698-9d3f-7058f745c4ed",
   "metadata": {},
   "outputs": [],
   "source": [
    "b = a"
   ]
  },
  {
   "cell_type": "code",
   "execution_count": 57,
   "id": "7f617e43-4ac5-47d5-8a72-60b101b7478b",
   "metadata": {},
   "outputs": [
    {
     "data": {
      "text/plain": [
       "array([0, 1, 2, 3, 4])"
      ]
     },
     "execution_count": 57,
     "metadata": {},
     "output_type": "execute_result"
    }
   ],
   "source": [
    "a"
   ]
  },
  {
   "cell_type": "code",
   "execution_count": 58,
   "id": "a5bc82fb-b6ed-493d-a022-7ca470971b43",
   "metadata": {},
   "outputs": [
    {
     "data": {
      "text/plain": [
       "True"
      ]
     },
     "execution_count": 58,
     "metadata": {},
     "output_type": "execute_result"
    }
   ],
   "source": [
    "b is a"
   ]
  },
  {
   "cell_type": "markdown",
   "id": "2a878fdd-7cb1-41e9-8fe3-f31053901e8d",
   "metadata": {},
   "source": [
    "Funções(identificador de objetos):"
   ]
  },
  {
   "cell_type": "code",
   "execution_count": 60,
   "id": "477f1a60-562f-4d2f-8521-fdcdc143b1ea",
   "metadata": {},
   "outputs": [
    {
     "data": {
      "text/plain": [
       "139646438955888"
      ]
     },
     "execution_count": 60,
     "metadata": {},
     "output_type": "execute_result"
    }
   ],
   "source": [
    "id(a)"
   ]
  },
  {
   "cell_type": "code",
   "execution_count": 61,
   "id": "6117ae48-332b-4d83-9d15-002143deebb7",
   "metadata": {},
   "outputs": [
    {
     "data": {
      "text/plain": [
       "139646438955888"
      ]
     },
     "execution_count": 61,
     "metadata": {},
     "output_type": "execute_result"
    }
   ],
   "source": [
    "id(b)"
   ]
  },
  {
   "cell_type": "markdown",
   "id": "c196f93f-daf4-4d43-bf19-01a1d7ca9903",
   "metadata": {},
   "source": [
    "Criando copias:"
   ]
  },
  {
   "cell_type": "code",
   "execution_count": 63,
   "id": "c4151267-92b8-45c5-a24f-7b7bff1520f7",
   "metadata": {},
   "outputs": [],
   "source": [
    "d = a.copy()"
   ]
  },
  {
   "cell_type": "code",
   "execution_count": 64,
   "id": "b5eb909d-1ede-4bb3-9e64-4224bb4a4816",
   "metadata": {},
   "outputs": [
    {
     "data": {
      "text/plain": [
       "array([0, 1, 2, 3, 4])"
      ]
     },
     "execution_count": 64,
     "metadata": {},
     "output_type": "execute_result"
    }
   ],
   "source": [
    "d"
   ]
  },
  {
   "cell_type": "code",
   "execution_count": 65,
   "id": "2e16e9d4-d9b9-41c2-9b40-372742f18232",
   "metadata": {},
   "outputs": [
    {
     "data": {
      "text/plain": [
       "False"
      ]
     },
     "execution_count": 65,
     "metadata": {},
     "output_type": "execute_result"
    }
   ],
   "source": [
    "d is a"
   ]
  },
  {
   "cell_type": "code",
   "execution_count": 66,
   "id": "a393b00f-50c7-4fbe-95d3-c82409e4a47c",
   "metadata": {},
   "outputs": [],
   "source": [
    "d[0] = 200"
   ]
  },
  {
   "cell_type": "code",
   "execution_count": 67,
   "id": "1b941fef-16a9-4f3b-9759-0ac62b6e1f16",
   "metadata": {},
   "outputs": [
    {
     "data": {
      "text/plain": [
       "array([200,   1,   2,   3,   4])"
      ]
     },
     "execution_count": 67,
     "metadata": {},
     "output_type": "execute_result"
    }
   ],
   "source": [
    "d"
   ]
  },
  {
   "cell_type": "code",
   "execution_count": 68,
   "id": "0352d5db-a9b9-4f80-8e69-a084be400a56",
   "metadata": {},
   "outputs": [
    {
     "data": {
      "text/plain": [
       "array([0, 1, 2, 3, 4])"
      ]
     },
     "execution_count": 68,
     "metadata": {},
     "output_type": "execute_result"
    }
   ],
   "source": [
    "a"
   ]
  },
  {
   "cell_type": "code",
   "execution_count": 69,
   "id": "5a8ad31f-d562-480a-a8ce-3f54ca49136f",
   "metadata": {},
   "outputs": [
    {
     "data": {
      "text/plain": [
       "array([300,   1,   2,   3,   4])"
      ]
     },
     "execution_count": 69,
     "metadata": {},
     "output_type": "execute_result"
    }
   ],
   "source": [
    "b[0] = 300\n",
    "a"
   ]
  },
  {
   "cell_type": "code",
   "execution_count": null,
   "id": "dcaf4b87-baf6-4556-8b93-12713fa57028",
   "metadata": {},
   "outputs": [],
   "source": []
  }
 ],
 "metadata": {
  "kernelspec": {
   "display_name": "Python 3 (ipykernel)",
   "language": "python",
   "name": "python3"
  },
  "language_info": {
   "codemirror_mode": {
    "name": "ipython",
    "version": 3
   },
   "file_extension": ".py",
   "mimetype": "text/x-python",
   "name": "python",
   "nbconvert_exporter": "python",
   "pygments_lexer": "ipython3",
   "version": "3.9.6"
  }
 },
 "nbformat": 4,
 "nbformat_minor": 5
}
